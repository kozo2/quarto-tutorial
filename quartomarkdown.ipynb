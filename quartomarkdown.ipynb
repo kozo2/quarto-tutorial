{
  "cells": [
    {
      "cell_type": "raw",
      "metadata": {},
      "source": [
        "---\n",
        "title: \"Quarto Markdown の利点\"\n",
        "bibliography: references.bib\n",
        "---"
      ],
      "id": "198b05d2"
    },
    {
      "cell_type": "markdown",
      "metadata": {},
      "source": [
        "Quarto はデフォルトで、 Markdown による記述をサポートしています。\n",
        "\n",
        "Quarto はそれに加えて、 Quarto Markdown という独自の拡張を提供しています。\n",
        "\n",
        "Quarto Markdown には、以下のような利点があります。\n",
        "\n",
        "1. クロスリファレンスと引用: 文書内で図表やセクションを参照し、文献引用をサポートします。\n",
        "1. 実行可能なコードブロック: R, Python, Juliaなどの言語で書かれたコードを文書内に埋め込み、そのコードを実行して結果を直接文書に表示することができます。\n",
        "\n",
        "## クロスリファレンスと引用\n",
        "\n",
        "Quarto Markdown で何よりもまず お伝えしたいのは「クロスリファレンス」です。\n",
        "\n",
        "この.qmdファイルでは、以下のことを行っています：\n",
        "\n",
        "[実行可能なコードブロック](#sec-executable-codeblock) で述べたようにうんぬんかんぬん。\n",
        "\n",
        "@fig-plot で示したようにうんぬんかんぬん。\n",
        "\n",
        "\n",
        "クロスリファレンス: 文書内のセクション（実行可能なコードブロック）と図（An example plot.）にラベルを付け、そのラベルを使用して文書内で参照しています。セクションへのリンクはマークダウンのリンク構文を使い、図へのリンクは \\@label を使用しています。\n",
        "引用: [@smith2020]を使用して、references.bibファイル内のBibTeXエントリを引用しています。\n",
        "\n",
        "\n",
        "\n",
        "\n",
        "## 実行可能なコードブロック {#sec-executable-codeblock}\n"
      ],
      "id": "e76ba5a0"
    },
    {
      "cell_type": "code",
      "metadata": {},
      "source": [
        "#| label: fig-plot\n",
        "#| fig-cap: An example plot.\n",
        "import matplotlib.pyplot as plt\n",
        "import numpy as np\n",
        "\n",
        "x = np.linspace(0, 10, 100)\n",
        "y = np.sin(x)\n",
        "\n",
        "plt.figure(figsize=(8, 4))\n",
        "plt.plot(x, y)\n",
        "plt.title(\"Example Plot\")\n",
        "plt.show()"
      ],
      "id": "fig-plot",
      "execution_count": null,
      "outputs": []
    }
  ],
  "metadata": {
    "kernelspec": {
      "display_name": "Python 3",
      "language": "python",
      "name": "python3"
    }
  },
  "nbformat": 4,
  "nbformat_minor": 5
}